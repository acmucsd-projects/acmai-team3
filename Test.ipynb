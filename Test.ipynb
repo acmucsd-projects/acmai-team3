{
 "cells": [
  {
   "cell_type": "code",
   "execution_count": 1,
   "id": "06d7f765-2ed1-4401-93f5-6c161f5b45e1",
   "metadata": {},
   "outputs": [
    {
     "name": "stdout",
     "output_type": "stream",
     "text": [
      "INFO:tensorflow:Enabling eager execution\n",
      "INFO:tensorflow:Enabling v2 tensorshape\n",
      "INFO:tensorflow:Enabling resource variables\n",
      "INFO:tensorflow:Enabling tensor equality\n",
      "INFO:tensorflow:Enabling control flow v2\n"
     ]
    }
   ],
   "source": [
    "import os\n",
    "import glob\n",
    "import cv2\n",
    "from tqdm import tqdm\n",
    "import numpy as np\n",
    "import pathlib\n",
    "import tensorflow as tf\n",
    "import matplotlib.pyplot as plt\n",
    "\n",
    "from tensorflow import keras\n",
    "from tensorflow.keras import layers\n",
    "from tensorflow.keras.models import Sequential"
   ]
  },
  {
   "cell_type": "code",
   "execution_count": 2,
   "id": "4b5b450e-24f1-4a2d-8a4e-78cc999c0a08",
   "metadata": {},
   "outputs": [
    {
     "name": "stdout",
     "output_type": "stream",
     "text": [
      "G:\\ACM AI Project\\Face_Recognition\n",
      "G:\\ACM AI Project\\Face_Recognition\\data\\valid\n"
     ]
    }
   ],
   "source": [
    "# get path to data folder\n",
    "path = os.getcwd()\n",
    "print(path)\n",
    "data_dir = pathlib.Path.cwd()\n",
    "data_train_dir = data_dir.joinpath('data','train')\n",
    "data_val_dir = data_dir.joinpath('data', 'valid')\n",
    "print(data_val_dir)"
   ]
  },
  {
   "cell_type": "code",
   "execution_count": 3,
   "id": "81f3fce3-470f-425d-8db1-29fd943e2c58",
   "metadata": {},
   "outputs": [
    {
     "name": "stdout",
     "output_type": "stream",
     "text": [
      "['angry', 'disgust', 'fear', 'happy', 'neutral', 'sad', 'surprise']\n"
     ]
    }
   ],
   "source": [
    "# get all emotion class names\n",
    "emotions = os.listdir(data_train_dir)\n",
    "print(emotions)"
   ]
  },
  {
   "cell_type": "markdown",
   "id": "63dbc3ec-b257-4cf2-b075-18f25e447dcf",
   "metadata": {},
   "source": [
    "## Find the minimum number of images"
   ]
  },
  {
   "cell_type": "code",
   "execution_count": 4,
   "id": "41b6d8b1-b871-41a6-8ac8-962e4ba7cb13",
   "metadata": {},
   "outputs": [
    {
     "name": "stdout",
     "output_type": "stream",
     "text": [
      "[6566, 3231, 4859, 28592, 29384, 12223, 8113]\n"
     ]
    }
   ],
   "source": [
    "num_emotion_file_arr = []\n",
    "\n",
    "# get number of files in each emotion folders\n",
    "for emotion in emotions:\n",
    "    emotion_files = list(data_train_dir.glob(emotion + '/*'))\n",
    "    num_emotion_file_arr.append(len(emotion_files))\n",
    "\n",
    "print(num_emotion_file_arr)"
   ]
  },
  {
   "cell_type": "code",
   "execution_count": 5,
   "id": "a63b0002-1039-4ec0-89f7-f6af0dddd4e8",
   "metadata": {},
   "outputs": [
    {
     "name": "stdout",
     "output_type": "stream",
     "text": [
      "[1017, 656, 659, 5475, 5839, 2236, 1474]\n"
     ]
    }
   ],
   "source": [
    "num_val_file_arr = []\n",
    "\n",
    "# get number of files in each emotion folders\n",
    "for emotion in emotions:\n",
    "    emotion_files = list(data_val_dir.glob(emotion + '/*'))\n",
    "    num_val_file_arr.append(len(emotion_files))\n",
    "\n",
    "print(num_val_file_arr)"
   ]
  },
  {
   "cell_type": "code",
   "execution_count": 6,
   "id": "16b9c0bc-9650-4077-aca9-ca2672903971",
   "metadata": {},
   "outputs": [
    {
     "name": "stdout",
     "output_type": "stream",
     "text": [
      "3231\n"
     ]
    }
   ],
   "source": [
    "num_files = min(num_emotion_file_arr)\n",
    "print(num_files)"
   ]
  },
  {
   "cell_type": "code",
   "execution_count": 7,
   "id": "996beef0-5353-4923-b786-015f3f2e064d",
   "metadata": {},
   "outputs": [
    {
     "name": "stdout",
     "output_type": "stream",
     "text": [
      "656\n"
     ]
    }
   ],
   "source": [
    "num_val_files = min(num_val_file_arr)\n",
    "print(num_val_files)"
   ]
  },
  {
   "cell_type": "code",
   "execution_count": 8,
   "id": "8e99e244-cb69-4592-a36a-e27393c76bf3",
   "metadata": {},
   "outputs": [
    {
     "name": "stdout",
     "output_type": "stream",
     "text": [
      "3231\n",
      "G:\\ACM AI Project\\Face_Recognition\\data\\train\\surprise\\*\n"
     ]
    }
   ],
   "source": [
    "random_files = np.random.choice(emotion_files, num_files)\n",
    "print(len(random_files))\n",
    "print(str(data_train_dir.joinpath(emotion,'*')))"
   ]
  },
  {
   "cell_type": "markdown",
   "id": "f6d2da58-8050-4430-bb0a-0609b57601c9",
   "metadata": {},
   "source": [
    "## Preprocess train data and validation data"
   ]
  },
  {
   "cell_type": "markdown",
   "id": "0d31f516-3ac3-476c-9a9a-5788b41a69c8",
   "metadata": {},
   "source": [
    "### Get list of image file path and labels"
   ]
  },
  {
   "cell_type": "code",
   "execution_count": 9,
   "id": "6b2ba9e0-0fce-4c10-9720-562eea775b89",
   "metadata": {},
   "outputs": [],
   "source": [
    "image_files=[]\n",
    "labels=[]\n",
    "\n",
    "for emotion in emotions:\n",
    "    label = emotions.index(emotion)\n",
    "    \n",
    "    emotion_files = glob.glob(str(data_train_dir.joinpath(emotion,'*')))\n",
    "    constrained_files = np.random.choice(emotion_files, num_files)\n",
    "    image_files.append(constrained_files)  \n",
    "    labels.append([label]*num_files)\n",
    "\n",
    "image_files = np.asarray(image_files)\n",
    "image_files = list(image_files.flatten())\n",
    "labels = np.asarray(labels)\n",
    "labels = list(labels.flatten())\n"
   ]
  },
  {
   "cell_type": "code",
   "execution_count": 10,
   "id": "05e017f4-a944-407a-8ace-7379e1ebb214",
   "metadata": {},
   "outputs": [
    {
     "name": "stdout",
     "output_type": "stream",
     "text": [
      "4592\n"
     ]
    }
   ],
   "source": [
    "val_image_files=[]\n",
    "val_labels=[]\n",
    "\n",
    "for emotion in emotions:\n",
    "    label = emotions.index(emotion)\n",
    "    \n",
    "    emotion_files = glob.glob(str(data_val_dir.joinpath(emotion,'*')))\n",
    "    constrained_files = np.random.choice(emotion_files, num_val_files)\n",
    "    val_image_files.append(constrained_files)  \n",
    "    val_labels.append([label]*num_val_files)\n",
    "\n",
    "val_image_files = np.asarray(val_image_files)\n",
    "val_image_files = list(val_image_files.flatten())\n",
    "val_labels = np.asarray(val_labels)\n",
    "val_labels = list(val_labels.flatten())\n",
    "print(len(val_image_files))"
   ]
  },
  {
   "cell_type": "markdown",
   "id": "f9808ee2-da7e-41aa-b5b4-8c0b57bd5e38",
   "metadata": {},
   "source": [
    "### Get all images and store in tensorflow"
   ]
  },
  {
   "cell_type": "code",
   "execution_count": 11,
   "id": "584508cb-6928-4abd-a9d8-cb6ef608e28c",
   "metadata": {},
   "outputs": [],
   "source": [
    "batch_size = 32\n",
    "img_height = 48\n",
    "img_width = 48\n",
    "AUTOTUNE = tf.data.AUTOTUNE"
   ]
  },
  {
   "cell_type": "code",
   "execution_count": 12,
   "id": "7d004c95-6492-4222-9cc6-e39e7c34064f",
   "metadata": {},
   "outputs": [],
   "source": [
    "def parse_function(filename, label):\n",
    "    image_string = tf.io.read_file(filename)\n",
    "\n",
    "    #Don't use tf.image.decode_image, or the output shape will be undefined\n",
    "    image = tf.image.decode_jpeg(image_string, channels=3)\n",
    "\n",
    "    #This will convert to float values in [0, 1]\n",
    "    image = tf.image.convert_image_dtype(image, tf.float32)\n",
    "\n",
    "    image = tf.image.resize(image, [48, 48])\n",
    "    \n",
    "    return image, label "
   ]
  },
  {
   "cell_type": "code",
   "execution_count": 13,
   "id": "2680b229-97a7-4db3-8bbc-7e8b03981aaa",
   "metadata": {},
   "outputs": [],
   "source": [
    "def train_preprocess(image, label):\n",
    "    image = tf.image.random_flip_left_right(image)\n",
    "\n",
    "    image = tf.image.random_brightness(image, max_delta=32.0 / 255.0)\n",
    "    image = tf.image.random_saturation(image, lower=0.5, upper=1.5)\n",
    "\n",
    "    #Make sure the image is still in [0, 1]\n",
    "    image = tf.clip_by_value(image, 0.0, 1.0)\n",
    "\n",
    "    return image, label"
   ]
  },
  {
   "cell_type": "code",
   "execution_count": 14,
   "id": "92102802-3f80-4082-86f3-d423a91be875",
   "metadata": {},
   "outputs": [],
   "source": [
    "def configure_for_performance(ds):\n",
    "    ds = ds.cache()\n",
    "    ds = ds.shuffle(len(image_files))\n",
    "    ds = ds.batch(batch_size)\n",
    "    ds = ds.prefetch(buffer_size=AUTOTUNE)\n",
    "    \n",
    "    return ds"
   ]
  },
  {
   "cell_type": "code",
   "execution_count": 15,
   "id": "eca018f3-48db-49d0-b097-4e6de00c253a",
   "metadata": {},
   "outputs": [],
   "source": [
    "train_ds = tf.data.Dataset.from_tensor_slices((image_files, labels))\n",
    "\n",
    "train_ds = train_ds.map(parse_function, num_parallel_calls=4)\n",
    "train_ds = train_ds.map(train_preprocess, num_parallel_calls=4)\n",
    "train_ds = configure_for_performance(train_ds)\n",
    "\n",
    "val_ds = tf.data.Dataset.from_tensor_slices((val_image_files, val_labels))\n",
    "val_ds = val_ds.map(parse_function, num_parallel_calls=4)\n",
    "val_ds = val_ds.map(train_preprocess, num_parallel_calls=4)\n",
    "val_ds = configure_for_performance(val_ds)"
   ]
  },
  {
   "cell_type": "code",
   "execution_count": 16,
   "id": "2ddd49c9-e98a-404e-b9d0-a3f4ebc27c49",
   "metadata": {},
   "outputs": [
    {
     "name": "stdout",
     "output_type": "stream",
     "text": [
      "Image shape:  (32, 48, 48, 3)\n",
      "Label:  (32,)\n"
     ]
    }
   ],
   "source": [
    "for image, label in train_ds.take(1):\n",
    "    print(\"Image shape: \", image.numpy().shape)\n",
    "    print(\"Label: \", label.numpy().shape)"
   ]
  },
  {
   "cell_type": "code",
   "execution_count": 17,
   "id": "112f79a6-e582-4ad9-b1c5-eb14fcc718f3",
   "metadata": {},
   "outputs": [
    {
     "data": {
      "image/png": "[encoded data removed]",
      "text/plain": [
       "<Figure size 720x720 with 9 Axes>"
      ]
     },
     "metadata": {
      "needs_background": "light"
     },
     "output_type": "display_data"
    }
   ],
   "source": [
    "image_batch, label_batch = next(iter(train_ds))\n",
    "\n",
    "plt.figure(figsize=(10, 10))\n",
    "for i in range(9):\n",
    "    ax = plt.subplot(3, 3, i + 1)\n",
    "    plt.imshow(image_batch[i].numpy().astype(\"uint8\"))\n",
    "    label = label_batch[i]\n",
    "    plt.title(emotions[label])\n",
    "    plt.axis(\"off\")"
   ]
  },
  {
   "cell_type": "markdown",
   "id": "e8a0cab8-b017-4223-99b6-e093decb3902",
   "metadata": {},
   "source": [
    "### Test simple CNN model"
   ]
  },
  {
   "cell_type": "code",
   "execution_count": 18,
   "id": "1d6a3b13-0ccc-4e28-8bab-865d91cf1a51",
   "metadata": {},
   "outputs": [],
   "source": [
    "num_classes = 7\n",
    "\n",
    "model = tf.keras.Sequential([\n",
    "  layers.Conv2D(16, 3, padding='same', activation='relu'),\n",
    "  layers.MaxPooling2D(),\n",
    "  layers.Conv2D(32, 3, padding='same', activation='relu'),\n",
    "  layers.MaxPooling2D(),\n",
    "  layers.Conv2D(64, 3, padding='same', activation='relu'),\n",
    "  layers.MaxPooling2D(),\n",
    "  layers.Flatten(),\n",
    "  layers.Dense(128, activation='relu'),\n",
    "  layers.Dense(num_classes)\n",
    "])"
   ]
  },
  {
   "cell_type": "code",
   "execution_count": 19,
   "id": "41e5fa99-d405-485e-a31b-677b81f8c6c6",
   "metadata": {},
   "outputs": [],
   "source": [
    "model.compile(\n",
    "  optimizer='adam',\n",
    "  loss=tf.losses.SparseCategoricalCrossentropy(from_logits=True),\n",
    "  metrics=['accuracy'])"
   ]
  },
  {
   "cell_type": "code",
   "execution_count": 20,
   "id": "8a1b5484-a571-4549-9f6d-3d4c8d131717",
   "metadata": {},
   "outputs": [
    {
     "name": "stdout",
     "output_type": "stream",
     "text": [
      "Epoch 1/10\n",
      "707/707 [==============================] - 31s 43ms/step - loss: 1.8599 - accuracy: 0.2297 - val_loss: 1.8060 - val_accuracy: 0.2646\n",
      "Epoch 2/10\n",
      "707/707 [==============================] - 23s 32ms/step - loss: 1.6757 - accuracy: 0.3433 - val_loss: 1.8002 - val_accuracy: 0.3084\n",
      "Epoch 3/10\n",
      "707/707 [==============================] - 23s 32ms/step - loss: 1.5427 - accuracy: 0.4008 - val_loss: 1.7407 - val_accuracy: 0.3249\n",
      "Epoch 4/10\n",
      "707/707 [==============================] - 23s 33ms/step - loss: 1.4308 - accuracy: 0.4483 - val_loss: 1.7104 - val_accuracy: 0.3434\n",
      "Epoch 5/10\n",
      "707/707 [==============================] - 23s 33ms/step - loss: 1.3213 - accuracy: 0.4978 - val_loss: 1.7093 - val_accuracy: 0.3458\n",
      "Epoch 6/10\n",
      "707/707 [==============================] - 23s 32ms/step - loss: 1.2113 - accuracy: 0.5456 - val_loss: 1.8270 - val_accuracy: 0.3341\n",
      "Epoch 7/10\n",
      "707/707 [==============================] - 24s 35ms/step - loss: 1.0768 - accuracy: 0.6025 - val_loss: 1.8937 - val_accuracy: 0.3338\n",
      "Epoch 8/10\n",
      "707/707 [==============================] - 24s 34ms/step - loss: 0.9589 - accuracy: 0.6484 - val_loss: 1.9677 - val_accuracy: 0.3199\n",
      "Epoch 9/10\n",
      "707/707 [==============================] - 25s 35ms/step - loss: 0.8293 - accuracy: 0.7019 - val_loss: 2.1891 - val_accuracy: 0.3277\n",
      "Epoch 10/10\n",
      "707/707 [==============================] - 24s 33ms/step - loss: 0.6844 - accuracy: 0.7602 - val_loss: 2.3728 - val_accuracy: 0.3075\n"
     ]
    },
    {
     "data": {
      "text/plain": [
       "<tensorflow.python.keras.callbacks.History at 0x22f0af71970>"
      ]
     },
     "execution_count": 20,
     "metadata": {},
     "output_type": "execute_result"
    }
   ],
   "source": [
    "model.fit(\n",
    "  train_ds,\n",
    "  validation_data=val_ds,\n",
    "  epochs=10\n",
    ")"
   ]
  },
  {
   "cell_type": "code",
   "execution_count": null,
   "id": "2f0297d5-0532-4c83-8b5d-31cbe1e7223a",
   "metadata": {},
   "outputs": [],
   "source": []
  }
 ],
 "metadata": {
  "kernelspec": {
   "display_name": "Python 3",
   "language": "python",
   "name": "python3"
  },
  "language_info": {
   "codemirror_mode": {
    "name": "ipython",
    "version": 3
   },
   "file_extension": ".py",
   "mimetype": "text/x-python",
   "name": "python",
   "nbconvert_exporter": "python",
   "pygments_lexer": "ipython3",
   "version": "3.9.1"
  }
 },
 "nbformat": 4,
 "nbformat_minor": 5
}
