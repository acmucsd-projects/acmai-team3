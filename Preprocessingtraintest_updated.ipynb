{
 "cells": [
  {
   "cell_type": "markdown",
   "metadata": {},
   "source": [
    "# Import"
   ]
  },
  {
   "cell_type": "code",
   "execution_count": null,
   "metadata": {},
   "outputs": [],
   "source": [
    "import os\n",
    "from tqdm import tqdm\n",
    "import tensorflow as tf\n",
    "import numpy as np\n",
    "import cv2\n",
    "path_train = r'C:/Users/zingb/Desktop/ACM AI Team 3/data/train'\n",
    "path_test = r'C:/Users/zingb/Desktop/ACM AI Team 3/data/test'\n",
    "files_train = os.listdir(path_train)\n",
    "files_test = os.listdir(path_test)\n",
    "from collections import Counter\n",
    "import random"
   ]
  },
  {
   "cell_type": "markdown",
   "metadata": {},
   "source": [
    "Class Labels-Training Data"
   ]
  },
  {
   "cell_type": "code",
   "execution_count": null,
   "metadata": {},
   "outputs": [],
   "source": [
    "#Class Labels\n",
    "Exp_train = files_train"
   ]
  },
  {
   "cell_type": "markdown",
   "metadata": {},
   "source": [
    "Image Preprocessing-training data"
   ]
  },
  {
   "cell_type": "code",
   "execution_count": null,
   "metadata": {},
   "outputs": [],
   "source": [
    "i_train=0\n",
    "last_train=[]\n",
    "images_train=[]\n",
    "labels_train=[]\n",
    "# look into glob\n",
    "for fle in files_train:\n",
    "    idx=Exp_train.index(fle)\n",
    "    label=idx\n",
    "\n",
    "    total=path_train+'/'+fle\n",
    "    files_exp= os.listdir(total)\n",
    "#     print('FILES_EXP', files_exp )\n",
    "#     print(len(files_exp))\n",
    "    for fle_2 in tqdm(files_exp, total = len(files_exp)):\n",
    "        file_main=total+'/'+fle_2\n",
    "        image= cv2.imread(file_main)\n",
    "        image = cv2.cvtColor(image, cv2.COLOR_BGR2RGB)\n",
    "        image= cv2.resize(image,(48,48))\n",
    "        images_train.append(image)\n",
    "        labels_train.append(label)\n",
    "        i_train+=1\n",
    "    last_train.append(i_train)"
   ]
  },
  {
   "cell_type": "code",
   "execution_count": null,
   "metadata": {},
   "outputs": [],
   "source": [
    "#See number of each class\n",
    "Counter(labels_train)"
   ]
  },
  {
   "cell_type": "code",
   "execution_count": null,
   "metadata": {},
   "outputs": [],
   "source": [
    "#Need to balance dataset since uneven number in each class\n",
    "#Dropping class 1 altogether\n",
    "del images_train[3995:(3995+436)]\n",
    "del labels_train[3995:(3995+436)]"
   ]
  },
  {
   "cell_type": "code",
   "execution_count": null,
   "metadata": {},
   "outputs": [],
   "source": [
    "Counter(labels_train)"
   ]
  },
  {
   "cell_type": "markdown",
   "metadata": {},
   "source": [
    "Balance Dataset"
   ]
  },
  {
   "cell_type": "code",
   "execution_count": null,
   "metadata": {},
   "outputs": [],
   "source": [
    "#Even Each class to same amount\n",
    "min_train = 3171\n",
    "class_0 = labels_train[:3995]\n",
    "class_2 = labels_train[3995:(3995 + 4107)]\n",
    "class_3 = labels_train[(3995 + 4107):(3995 + 4107 + 7228)]\n",
    "class_4 = labels_train[(3995 + 4107 + 7228):(3995 + 4107 + 7228 + 4965)]\n",
    "class_5 = labels_train[(3995 + 4107 + 7228 + 4965):(3995 + 4107 + 7228 + 4965 + 4830)]\n",
    "class_6 = labels_train[(3995 + 4107 + 7228 + 4965 + 4830):(3995 + 4107 + 7228 + 4965 + 4830 + 3171)]\n",
    "class_0_img = labels_train[:3995]\n",
    "class_2_img = labels_train[3995:(3995 + 4107)]\n",
    "class_3_img = labels_train[(3995 + 4107):(3995 + 4107 + 7228)]\n",
    "class_4_img = labels_train[(3995 + 4107 + 7228):(3995 + 4107 + 7228 + 4965)]\n",
    "class_5_img = labels_train[(3995 + 4107 + 7228 + 4965):(3995 + 4107 + 7228 + 4965 + 4830)]\n",
    "class_6_img = labels_train[(3995 + 4107 + 7228 + 4965 + 4830):(3995 + 4107 + 7228 + 4965 + 4830 + 3171)]\n",
    "\n",
    "classes_train = [[class_0, class_0_img], [class_2, class_2_img], [class_3, class_3_img],\n",
    "           [class_4, class_4_img], [class_5, class_5_img], [class_6, class_6_img]]"
   ]
  },
  {
   "cell_type": "code",
   "execution_count": null,
   "metadata": {},
   "outputs": [],
   "source": [
    "for x in classes_train:\n",
    "    temp = list(zip(x[0], x[1]))\n",
    "    random.shuffle(temp)\n",
    "    temp = temp[:min_train]\n",
    "    x[0], x[1] = zip(*temp)        "
   ]
  },
  {
   "cell_type": "code",
   "execution_count": null,
   "metadata": {},
   "outputs": [],
   "source": [
    "class_0 = classes_train[0][0]\n",
    "class_2 = classes_train[1][0]\n",
    "class_3 = classes_train[2][0]\n",
    "class_4 = classes_train[3][0]\n",
    "class_5 = classes_train[4][0]\n",
    "class_6 = classes_train[5][0]\n",
    "class_0_img = classes_train[0][1]\n",
    "class_2_img = classes_train[1][1]\n",
    "class_3_img = classes_train[2][1]\n",
    "class_4_img = classes_train[3][1]\n",
    "class_5_img = classes_train[4][1]\n",
    "class_6_img = classes_train[5][1]"
   ]
  },
  {
   "cell_type": "code",
   "execution_count": null,
   "metadata": {},
   "outputs": [],
   "source": [
    "labels_train = class_0 + class_2 + class_3 + class_4 + class_5 + class_6\n",
    "images_train = class_0_img + class_2_img + class_3_img + class_4_img + class_5_img + class_6_img"
   ]
  },
  {
   "cell_type": "code",
   "execution_count": null,
   "metadata": {},
   "outputs": [],
   "source": [
    "Counter(labels_train)"
   ]
  },
  {
   "cell_type": "markdown",
   "metadata": {},
   "source": [
    "Normalization of Images/Converting labels and Images into NumPy Arrays"
   ]
  },
  {
   "cell_type": "code",
   "execution_count": null,
   "metadata": {},
   "outputs": [],
   "source": [
    "images_f_train = np.array(images_train)\n",
    "labels_f_train = np.array(labels_train)\n",
    "images_f_2_train = images_f_train/255\n",
    "labels_train_encoded = tf.keras.utils.to_categorical(labels_f_train, num_classes = Exp_train)"
   ]
  },
  {
   "cell_type": "markdown",
   "metadata": {},
   "source": [
    "Class Labels-Test Data"
   ]
  },
  {
   "cell_type": "code",
   "execution_count": null,
   "metadata": {},
   "outputs": [],
   "source": [
    "#Class Labels\n",
    "Exp_test = files_test"
   ]
  },
  {
   "cell_type": "markdown",
   "metadata": {},
   "source": [
    "Image Preprocessing-Test Data"
   ]
  },
  {
   "cell_type": "code",
   "execution_count": null,
   "metadata": {},
   "outputs": [],
   "source": [
    "i_test=0\n",
    "last_test=[]\n",
    "images_test=[]\n",
    "labels_test=[]\n",
    "# look into glob\n",
    "for fle in files_test:\n",
    "    idx=Exp_test.index(fle)\n",
    "    label=idx\n",
    "\n",
    "    total=path_test+'/'+fle\n",
    "    files_exp= os.listdir(total)\n",
    "#     print('FILES_EXP', files_exp )\n",
    "#     print(len(files_exp))\n",
    "    for fle_2 in tqdm(files_exp, total = len(files_exp)):\n",
    "        file_main=total+'/'+fle_2\n",
    "        image= cv2.imread(file_main)\n",
    "        image = cv2.cvtColor(image, cv2.COLOR_BGR2RGB)\n",
    "        image= cv2.resize(image,(48,48))\n",
    "        images_test.append(image)\n",
    "        labels_test.append(label)\n",
    "        i_test+=1\n",
    "    last_test.append(i_test)"
   ]
  },
  {
   "cell_type": "code",
   "execution_count": null,
   "metadata": {},
   "outputs": [],
   "source": [
    "#See number of each class\n",
    "Counter(labels_test)"
   ]
  },
  {
   "cell_type": "code",
   "execution_count": null,
   "metadata": {},
   "outputs": [],
   "source": [
    "#Need to balance dataset since uneven number in each class\n",
    "#Dropping class 1 altogether\n",
    "del images_test[968:(968+111)]\n",
    "del labels_test[968:(968+111)]"
   ]
  },
  {
   "cell_type": "code",
   "execution_count": null,
   "metadata": {},
   "outputs": [],
   "source": [
    "Counter(labels_test)"
   ]
  },
  {
   "cell_type": "markdown",
   "metadata": {},
   "source": [
    "Balance Dataset"
   ]
  },
  {
   "cell_type": "code",
   "execution_count": null,
   "metadata": {},
   "outputs": [],
   "source": [
    "#Even Each class to same amount\n",
    "min_test = 831\n",
    "class_0_test = labels_test[:968]\n",
    "class_2_test = labels_test[968:(968 + 1024)]\n",
    "class_3_test = labels_test[(968 + 1024):(968 + 1024 + 1774)]\n",
    "class_4_test = labels_test[(968 + 1024 + 1774):(968 + 1024 + 1774 + 1233)]\n",
    "class_5_test = labels_test[(968 + 1024 + 1774 + 1233):(968 + 1024 + 1774 + 1233 + 1245)]\n",
    "class_6_test = labels_test[(968 + 1024 + 1774 + 1233 + 1245):(968 + 1024 + 1774 + 1233 + 1245 + 831)]\n",
    "class_0_img_test = labels_test[:968]\n",
    "class_2_img_test = labels_test[968:(968 + 1024)]\n",
    "class_3_img_test = labels_test[(968 + 1024):(968 + 1024 + 1774)]\n",
    "class_4_img_test = labels_test[(968 + 1024 + 1774):(968 + 1024 + 1774 + 1233)]\n",
    "class_5_img_test = labels_test[(968 + 1024 + 1774 + 1233):(968 + 1024 + 1774 + 1233 + 1245)]\n",
    "class_6_img_test = labels_test[(968 + 1024 + 1774 + 1233 + 1245):(968 + 1024 + 1774 + 1233 + 1245 + 831)]\n",
    "\n",
    "classes_test = [[class_0_test, class_0_img_test], [class_2_test, class_2_img_test], [class_3_test, class_3_img_test],\n",
    "           [class_4_test, class_4_img_test], [class_5_test, class_5_img_test], [class_6_test, class_6_img_test]]"
   ]
  },
  {
   "cell_type": "code",
   "execution_count": null,
   "metadata": {},
   "outputs": [],
   "source": [
    "for x in classes_test:\n",
    "    temp = list(zip(x[0], x[1]))\n",
    "    random.shuffle(temp)\n",
    "    temp = temp[:min_test]\n",
    "    x[0], x[1] = zip(*temp)  "
   ]
  },
  {
   "cell_type": "code",
   "execution_count": null,
   "metadata": {},
   "outputs": [],
   "source": [
    "class_0_test = classes_test[0][0]\n",
    "class_2_test = classes_test[1][0]\n",
    "class_3_test = classes_test[2][0]\n",
    "class_4_test = classes_test[3][0]\n",
    "class_5_test = classes_test[4][0]\n",
    "class_6_test = classes_test[5][0]\n",
    "class_0_img_test = classes_test[0][1]\n",
    "class_2_img_test = classes_test[1][1]\n",
    "class_3_img_test = classes_test[2][1]\n",
    "class_4_img_test = classes_test[3][1]\n",
    "class_5_img_test = classes_test[4][1]\n",
    "class_6_img_test = classes_test[5][1]"
   ]
  },
  {
   "cell_type": "code",
   "execution_count": null,
   "metadata": {},
   "outputs": [],
   "source": [
    "labels_test = class_0_test + class_2_test + class_3_test + class_4_test + class_5_test + class_6_test\n",
    "images_test = class_0_img_test + class_2_img_test + class_3_img_test + class_4_img_test + class_5_img_test + class_6_img_test"
   ]
  },
  {
   "cell_type": "code",
   "execution_count": null,
   "metadata": {},
   "outputs": [],
   "source": [
    "Counter(labels_test)"
   ]
  },
  {
   "cell_type": "markdown",
   "metadata": {},
   "source": [
    "Normalization of Images/Converting labels and Images into NumPy Arrays"
   ]
  },
  {
   "cell_type": "code",
   "execution_count": null,
   "metadata": {},
   "outputs": [],
   "source": [
    "images_f_test = np.array(images_test)\n",
    "labels_f_test = np.array(labels_test)\n",
    "images_f_2_test = images_f_test/255\n",
    "labels_test_encoded = tf.keras.utils.to_categorical(labels_f_test, num_classes = Exp_test)"
   ]
  }
 ],
 "metadata": {
  "kernelspec": {
   "display_name": "Python 3",
   "language": "python",
   "name": "python3"
  },
  "language_info": {
   "codemirror_mode": {
    "name": "ipython",
    "version": 3
   },
   "file_extension": ".py",
   "mimetype": "text/x-python",
   "name": "python",
   "nbconvert_exporter": "python",
   "pygments_lexer": "ipython3",
   "version": "3.8.10"
  }
 },
 "nbformat": 4,
 "nbformat_minor": 2
}
